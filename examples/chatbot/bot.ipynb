{
 "cells": [
  {
   "cell_type": "code",
   "execution_count": null,
   "metadata": {},
   "outputs": [],
   "source": [
    "from chatbot.chain import DummyChatBot\n",
    "from rich import print\n",
    "\n",
    "bot = DummyChatBot(verbose=False)\n",
    "print(bot.send(\"hi\"))"
   ]
  },
  {
   "cell_type": "code",
   "execution_count": null,
   "metadata": {},
   "outputs": [],
   "source": [
    "from chatbot.chain import LLaMAChatBot\n",
    "\n",
    "checkpoint_path = f\"../../weights/state_dict.pth\"\n",
    "tokenizer_path = f\"../../weights/tokenizer.model\"\n",
    "\n",
    "bot = LLaMAChatBot(checkpoint_path=checkpoint_path, tokenizer_path=tokenizer_path)\n",
    "print(bot.send(\"hi, what is the capital of France?\"))"
   ]
  },
  {
   "cell_type": "code",
   "execution_count": null,
   "metadata": {},
   "outputs": [],
   "source": []
  }
 ],
 "metadata": {
  "kernelspec": {
   "display_name": "am",
   "language": "python",
   "name": "python3"
  },
  "language_info": {
   "codemirror_mode": {
    "name": "ipython",
    "version": 3
   },
   "file_extension": ".py",
   "mimetype": "text/x-python",
   "name": "python",
   "nbconvert_exporter": "python",
   "pygments_lexer": "ipython3",
   "version": "3.10.9"
  }
 },
 "nbformat": 4,
 "nbformat_minor": 2
}
