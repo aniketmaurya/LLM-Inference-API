{
 "cells": [
  {
   "cell_type": "code",
   "execution_count": null,
   "metadata": {},
   "outputs": [],
   "source": [
    "from chatbot import LitGPTConversationChain, LitGPTLLM\n",
    "from llm_inference import prepare_weights\n",
    "from rich import print"
   ]
  },
  {
   "cell_type": "code",
   "execution_count": null,
   "metadata": {},
   "outputs": [],
   "source": [
    "bot = LitGPTConversationChain.from_llm(llm=\"dummy\", verbose=True)\n",
    "print(bot(\"Hi, I am Adam\"))"
   ]
  },
  {
   "cell_type": "code",
   "execution_count": null,
   "metadata": {},
   "outputs": [],
   "source": [
    "# path = str(prepare_weights(\"EleutherAI/pythia-70m\"))\n",
    "# llm = LitGPTLLM(checkpoint_dir=path, accelerator=\"cpu\")"
   ]
  },
  {
   "cell_type": "code",
   "execution_count": null,
   "metadata": {},
   "outputs": [],
   "source": [
    "path = str(prepare_weights(\"lmsys/longchat-7b-16k\"))\n",
    "llm = LitGPTLLM(checkpoint_dir=path)"
   ]
  },
  {
   "cell_type": "code",
   "execution_count": null,
   "metadata": {},
   "outputs": [],
   "source": [
    "from langchain.prompts import PromptTemplate\n",
    "\n",
    "longchat_prompt_template = (\n",
    "            \"A chat between a curious user and an artificial intelligence assistant. The assistant gives helpful, \"\n",
    "            \"detailed, and polite answers to the user's questions.\\n\"\n",
    "            \"Context: {history}\\n\"\n",
    "            \"USER: {input} ASSISTANT:\"\n",
    "        )\n",
    "\n",
    "\n",
    "prompt = PromptTemplate(input_variables =[\"input\", \"history\"], template=longchat_prompt_template)\n",
    "\n",
    "bot = LitGPTConversationChain.from_llm(llm=llm, verbose=True)\n",
    "bot.prompt = prompt"
   ]
  },
  {
   "cell_type": "code",
   "execution_count": null,
   "metadata": {},
   "outputs": [],
   "source": [
    "print(bot.send(\"Hi, I am Adam\"))"
   ]
  },
  {
   "cell_type": "code",
   "execution_count": null,
   "metadata": {},
   "outputs": [],
   "source": [
    "print(bot.send(\"What is the timezone of London?\"))"
   ]
  },
  {
   "cell_type": "code",
   "execution_count": null,
   "metadata": {},
   "outputs": [],
   "source": [
    "bot.send(\"My monitor screen size is 27 inch.\")"
   ]
  },
  {
   "cell_type": "code",
   "execution_count": null,
   "metadata": {},
   "outputs": [],
   "source": [
    "bot.send(\"What did I tell you about my monitor screen size?\")"
   ]
  },
  {
   "cell_type": "code",
   "execution_count": null,
   "metadata": {},
   "outputs": [],
   "source": []
  }
 ],
 "metadata": {
  "kernelspec": {
   "display_name": "am",
   "language": "python",
   "name": "python3"
  },
  "language_info": {
   "codemirror_mode": {
    "name": "ipython",
    "version": 3
   },
   "file_extension": ".py",
   "mimetype": "text/x-python",
   "name": "python",
   "nbconvert_exporter": "python",
   "pygments_lexer": "ipython3",
   "version": "3.11.3"
  }
 },
 "nbformat": 4,
 "nbformat_minor": 2
}
